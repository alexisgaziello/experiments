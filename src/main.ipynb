{
 "cells": [
  {
   "cell_type": "markdown",
   "metadata": {
    "collapsed": true
   },
   "source": [
    "# playground"
   ]
  },
  {
   "cell_type": "code",
   "execution_count": 1,
   "metadata": {},
   "outputs": [],
   "source": [
    "%load_ext autoreload\n",
    "%autoreload 2"
   ]
  },
  {
   "cell_type": "code",
   "execution_count": 2,
   "metadata": {
    "scrolled": true
   },
   "outputs": [
    {
     "name": "stdout",
     "output_type": "stream",
     "text": [
      "env: SOME_ENV=\"Hello world\"\n"
     ]
    }
   ],
   "source": [
    "%env SOME_ENV=\"Hello world\""
   ]
  },
  {
   "cell_type": "code",
   "execution_count": 3,
   "metadata": {},
   "outputs": [],
   "source": [
    "import sys\n",
    "import os\n",
    "import pymongo\n",
    "import pandas as pd\n",
    "import numpy as np\n",
    "import json\n",
    "import re\n",
    "import requests\n",
    "from pkg_resources import resource_filename\n",
    "from urllib.parse import urlparse, urljoin\n",
    "from pandas.testing import assert_frame_equal\n",
    "from sqlalchemy import create_engine\n",
    "from parse import compile\n",
    "from Levenshtein import distance as levenshtein_distance\n",
    "import fuzzy\n",
    "import unidecode\n",
    "from datetime import datetime, timedelta, timezone\n",
    "import numpy as np\n",
    "from sklearn.linear_model import LinearRegression, LogisticRegression\n",
    "from sqlalchemy import create_engine\n",
    "from sqlalchemy.orm import Session\n",
    "from unittest.mock import MagicMock\n",
    "from ast import literal_eval\n",
    "from werkzeug.utils import secure_filename\n",
    "import ast\n",
    "from typing import TYPE_CHECKING, Optional, Union, get_origin, get_args\n",
    "from hashlib import md5\n",
    "import networkx as nx\n",
    "import logging\n",
    "import matplotlib.pyplot as plt\n",
    "import seaborn as sns\n",
    "from copy import deepcopy\n",
    "import random\n",
    "import mlflow\n",
    "\n",
    "sns.set(rc = {'figure.figsize':(15,8)})\n",
    "\n",
    "pd.set_option(\"display.max_columns\", 50)\n",
    "pd.set_option(\"display.max_rows\", 100)\n",
    "\n",
    "logger = logging.getLogger(__name__)\n",
    "sys.path.append(\"/app/\")"
   ]
  },
  {
   "cell_type": "code",
   "execution_count": 4,
   "metadata": {},
   "outputs": [],
   "source": [
    "from src.config import configure_mlflow_experiment, save_model\n",
    "configure_mlflow_experiment(\"failure_prediction\", \"1.2.0\")"
   ]
  },
  {
   "cell_type": "code",
   "execution_count": 5,
   "metadata": {},
   "outputs": [],
   "source": [
    "from src.config import DATA_LAKE_ENGINE"
   ]
  },
  {
   "cell_type": "code",
   "execution_count": 6,
   "metadata": {},
   "outputs": [],
   "source": [
    "original_df = pd.read_sql_table(\"full_results\", DATA_LAKE_ENGINE)"
   ]
  },
  {
   "cell_type": "code",
   "execution_count": 7,
   "metadata": {},
   "outputs": [],
   "source": [
    "df = deepcopy(original_df)"
   ]
  },
  {
   "cell_type": "code",
   "execution_count": 8,
   "metadata": {},
   "outputs": [],
   "source": [
    "# Remove unnecessary data\n",
    "df = df[\n",
    "    [\n",
    "        # \"updated_on\",\n",
    "        \"Results\",\n",
    "        \"Test\",\n",
    "        # \"Provider\",\n",
    "        # \"PatientID\",\n",
    "        # \"Batch\",\n",
    "        \"Batch_Mode\",\n",
    "        \"Diagnosis\",\n",
    "        # \"Derivative\",\n",
    "        # \"Specimen\",\n",
    "        \"Institution\",\n",
    "        \"Metastatic\",\n",
    "        \"Tumor_Percentage\",\n",
    "        \"Primary_Site\",\n",
    "        \"Primary_Sub_Site\",\n",
    "        \"Primary_Site_Diagnosis\",\n",
    "        \"Secondary_Site\",\n",
    "        \"Secondary_Sub_Site\",\n",
    "        \"Secondary_Site_Diagnosis\",\n",
    "        # \"Provider_Order_Timestamp\",\n",
    "        # \"Accession_Timestamp\",\n",
    "        # \"Extraction_Timestamp\",\n",
    "        # \"Batch_Timestamp\",\n",
    "        # \"Results_Timestamp\",\n",
    "        # \"Results_VV_Version\",\n",
    "        \"TMB_Status\",\n",
    "        \"TMB_Score\",\n",
    "        \"TMB_Comment\",\n",
    "        \"Report_TMB\",\n",
    "        \"MSI_Status\",\n",
    "        \"MSI_Score\",\n",
    "        \"MSI_Confirmation\",\n",
    "        \"MSI_Comment\",\n",
    "        \"Report_MSI\",\n",
    "        \"KRAS_Wild_Type\",\n",
    "        \"NRAS_Wild_Type\",\n",
    "        # \"Variants\",\n",
    "        \"MCC\",\n",
    "        # \"VV_URL\",\n",
    "        # \"Error\",\n",
    "    ]\n",
    "]"
   ]
  },
  {
   "cell_type": "code",
   "execution_count": 9,
   "metadata": {},
   "outputs": [],
   "source": [
    "def simplify_diagnosis(value: str):\n",
    "    \n",
    "    if value is None:\n",
    "        return\n",
    "    \n",
    "    simple_values =  \"FAILURE\", \"ABNORMAL\", \"NORMAL\", \"REPEAT\"\n",
    "    for simple_value in simple_values:\n",
    "        if simple_value in value:\n",
    "            return simple_value\n",
    "    \n",
    "    raise ValueError(f\"Unknown value: {value}\")"
   ]
  },
  {
   "cell_type": "code",
   "execution_count": 10,
   "metadata": {},
   "outputs": [],
   "source": [
    "df[\"simple_diagnosis\"] = df.Diagnosis.apply(simplify_diagnosis)\n",
    "df = df[df[\"simple_diagnosis\"].isin([\"FAILURE\", \"ABNORMAL\"])]\n",
    "df = df.drop(columns = \"Diagnosis\")"
   ]
  },
  {
   "cell_type": "code",
   "execution_count": 11,
   "metadata": {},
   "outputs": [],
   "source": [
    "needs_dummy_columns = \"Test\", \"Batch_Mode\", \"simple_diagnosis\"\n",
    "for needs_dummy_column in needs_dummy_columns:\n",
    "    dummies = pd.get_dummies(df[needs_dummy_column])\n",
    "    if len(dummies.columns) == 2:\n",
    "        dummies = dummies.drop(columns=dummies.columns[0])\n",
    "    df = df.join(dummies)\n",
    "    df = df.drop(columns=needs_dummy_column)"
   ]
  },
  {
   "cell_type": "code",
   "execution_count": 12,
   "metadata": {},
   "outputs": [
    {
     "data": {
      "text/plain": [
       "<AxesSubplot:>"
      ]
     },
     "execution_count": 12,
     "metadata": {},
     "output_type": "execute_result"
    },
    {
     "data": {
      "image/png": "[encoded data removed]",
      "text/plain": [
       "<Figure size 1080x576 with 2 Axes>"
      ]
     },
     "metadata": {},
     "output_type": "display_data"
    }
   ],
   "source": [
    "sns.heatmap(df.corr(), annot=True, cmap=\"bwr_r\", vmin=-1, vmax=1)"
   ]
  },
  {
   "cell_type": "code",
   "execution_count": 13,
   "metadata": {},
   "outputs": [],
   "source": [
    "model_columns = [\n",
    "    'Results',\n",
    "    'SNAPSHOT-GSV2',\n",
    "    'SNAPSHOT-NGS-V2', \n",
    "    'Solid Fusion Assay V2', \n",
    "    'research', \n",
    "    'FAILURE',\n",
    "]"
   ]
  },
  {
   "cell_type": "code",
   "execution_count": 14,
   "metadata": {},
   "outputs": [],
   "source": [
    "index_column = \"Results\"\n",
    "data = df[model_columns].set_index(index_column)"
   ]
  },
  {
   "cell_type": "code",
   "execution_count": 15,
   "metadata": {},
   "outputs": [],
   "source": [
    "# Remove nans\n",
    "data = data.dropna()"
   ]
  },
  {
   "cell_type": "code",
   "execution_count": 16,
   "metadata": {},
   "outputs": [],
   "source": [
    "data_train = data.sample(int(0.8 * len(data)))\n",
    "data_test = data.loc[data.index.symmetric_difference(data_train.index),]\n",
    "assert len(data_train) + len(data_test) == len(data)"
   ]
  },
  {
   "cell_type": "code",
   "execution_count": 17,
   "metadata": {},
   "outputs": [],
   "source": [
    "data = data.dropna()"
   ]
  },
  {
   "cell_type": "code",
   "execution_count": 18,
   "metadata": {},
   "outputs": [],
   "source": [
    "target_column = \"FAILURE\"\n",
    "\n",
    "X_train = data_train.drop(columns=[target_column])\n",
    "X_test = data_test.drop(columns=[target_column])\n",
    "\n",
    "y_train = data_train[target_column]\n",
    "y_test = data_test[target_column]"
   ]
  },
  {
   "cell_type": "code",
   "execution_count": 19,
   "metadata": {},
   "outputs": [],
   "source": [
    "from sklearn.ensemble import RandomForestClassifier\n",
    "from sklearn.datasets import make_classification"
   ]
  },
  {
   "cell_type": "code",
   "execution_count": 20,
   "metadata": {},
   "outputs": [
    {
     "data": {
      "text/plain": [
       "RandomForestClassifier(max_depth=5, random_state=0)"
      ]
     },
     "execution_count": 20,
     "metadata": {},
     "output_type": "execute_result"
    }
   ],
   "source": [
    "max_depth = 5\n",
    "random_state = 0\n",
    "clf = RandomForestClassifier(max_depth=max_depth, random_state=random_state)\n",
    "clf.fit(X_train, y_train)"
   ]
  },
  {
   "cell_type": "code",
   "execution_count": 21,
   "metadata": {},
   "outputs": [
    {
     "data": {
      "text/html": [
       "<div>\n",
       "<style scoped>\n",
       "    .dataframe tbody tr th:only-of-type {\n",
       "        vertical-align: middle;\n",
       "    }\n",
       "\n",
       "    .dataframe tbody tr th {\n",
       "        vertical-align: top;\n",
       "    }\n",
       "\n",
       "    .dataframe thead th {\n",
       "        text-align: right;\n",
       "    }\n",
       "</style>\n",
       "<table border=\"1\" class=\"dataframe\">\n",
       "  <thead>\n",
       "    <tr style=\"text-align: right;\">\n",
       "      <th></th>\n",
       "      <th>SNAPSHOT-GSV2</th>\n",
       "      <th>SNAPSHOT-NGS-V2</th>\n",
       "      <th>Solid Fusion Assay V2</th>\n",
       "      <th>research</th>\n",
       "    </tr>\n",
       "    <tr>\n",
       "      <th>Results</th>\n",
       "      <th></th>\n",
       "      <th></th>\n",
       "      <th></th>\n",
       "      <th></th>\n",
       "    </tr>\n",
       "  </thead>\n",
       "  <tbody>\n",
       "    <tr>\n",
       "      <th>CID21-1102Results1</th>\n",
       "      <td>1</td>\n",
       "      <td>0</td>\n",
       "      <td>0</td>\n",
       "      <td>0</td>\n",
       "    </tr>\n",
       "    <tr>\n",
       "      <th>CID21-2698Results1</th>\n",
       "      <td>1</td>\n",
       "      <td>0</td>\n",
       "      <td>0</td>\n",
       "      <td>0</td>\n",
       "    </tr>\n",
       "    <tr>\n",
       "      <th>CID21-446Results1</th>\n",
       "      <td>1</td>\n",
       "      <td>0</td>\n",
       "      <td>0</td>\n",
       "      <td>0</td>\n",
       "    </tr>\n",
       "    <tr>\n",
       "      <th>CID20-1006Results1</th>\n",
       "      <td>0</td>\n",
       "      <td>1</td>\n",
       "      <td>0</td>\n",
       "      <td>0</td>\n",
       "    </tr>\n",
       "    <tr>\n",
       "      <th>CID21-512Results1</th>\n",
       "      <td>0</td>\n",
       "      <td>0</td>\n",
       "      <td>1</td>\n",
       "      <td>0</td>\n",
       "    </tr>\n",
       "    <tr>\n",
       "      <th>...</th>\n",
       "      <td>...</td>\n",
       "      <td>...</td>\n",
       "      <td>...</td>\n",
       "      <td>...</td>\n",
       "    </tr>\n",
       "    <tr>\n",
       "      <th>CID21-648Results1</th>\n",
       "      <td>0</td>\n",
       "      <td>0</td>\n",
       "      <td>1</td>\n",
       "      <td>0</td>\n",
       "    </tr>\n",
       "    <tr>\n",
       "      <th>CID21-1874Results1</th>\n",
       "      <td>1</td>\n",
       "      <td>0</td>\n",
       "      <td>0</td>\n",
       "      <td>0</td>\n",
       "    </tr>\n",
       "    <tr>\n",
       "      <th>CID20-990Results1</th>\n",
       "      <td>0</td>\n",
       "      <td>1</td>\n",
       "      <td>0</td>\n",
       "      <td>0</td>\n",
       "    </tr>\n",
       "    <tr>\n",
       "      <th>CID19-4774Results1</th>\n",
       "      <td>0</td>\n",
       "      <td>1</td>\n",
       "      <td>0</td>\n",
       "      <td>0</td>\n",
       "    </tr>\n",
       "    <tr>\n",
       "      <th>CID22-302Results1</th>\n",
       "      <td>1</td>\n",
       "      <td>0</td>\n",
       "      <td>0</td>\n",
       "      <td>0</td>\n",
       "    </tr>\n",
       "  </tbody>\n",
       "</table>\n",
       "<p>2124 rows × 4 columns</p>\n",
       "</div>"
      ],
      "text/plain": [
       "                    SNAPSHOT-GSV2  SNAPSHOT-NGS-V2  Solid Fusion Assay V2  \\\n",
       "Results                                                                     \n",
       "CID21-1102Results1              1                0                      0   \n",
       "CID21-2698Results1              1                0                      0   \n",
       "CID21-446Results1               1                0                      0   \n",
       "CID20-1006Results1              0                1                      0   \n",
       "CID21-512Results1               0                0                      1   \n",
       "...                           ...              ...                    ...   \n",
       "CID21-648Results1               0                0                      1   \n",
       "CID21-1874Results1              1                0                      0   \n",
       "CID20-990Results1               0                1                      0   \n",
       "CID19-4774Results1              0                1                      0   \n",
       "CID22-302Results1               1                0                      0   \n",
       "\n",
       "                    research  \n",
       "Results                       \n",
       "CID21-1102Results1         0  \n",
       "CID21-2698Results1         0  \n",
       "CID21-446Results1          0  \n",
       "CID20-1006Results1         0  \n",
       "CID21-512Results1          0  \n",
       "...                      ...  \n",
       "CID21-648Results1          0  \n",
       "CID21-1874Results1         0  \n",
       "CID20-990Results1          0  \n",
       "CID19-4774Results1         0  \n",
       "CID22-302Results1          0  \n",
       "\n",
       "[2124 rows x 4 columns]"
      ]
     },
     "execution_count": 21,
     "metadata": {},
     "output_type": "execute_result"
    }
   ],
   "source": [
    "X_train"
   ]
  },
  {
   "cell_type": "code",
   "execution_count": 22,
   "metadata": {},
   "outputs": [],
   "source": [
    "mlflow.log_param(\"max_depth\", max_depth)\n",
    "mlflow.log_param(\"random_state\", random_state)"
   ]
  },
  {
   "cell_type": "code",
   "execution_count": 23,
   "metadata": {},
   "outputs": [
    {
     "data": {
      "text/plain": [
       "0.7011278195488722"
      ]
     },
     "execution_count": 23,
     "metadata": {},
     "output_type": "execute_result"
    }
   ],
   "source": [
    "score = clf.score(X_test, y_test)\n",
    "score"
   ]
  },
  {
   "cell_type": "code",
   "execution_count": 24,
   "metadata": {},
   "outputs": [],
   "source": [
    "mlflow.log_metric(\"score\", score)"
   ]
  },
  {
   "cell_type": "code",
   "execution_count": 25,
   "metadata": {},
   "outputs": [],
   "source": [
    "save_model(\n",
    "    mlflow.sklearn,\n",
    "    clf,\n",
    "    \"random_forest\"\n",
    ")"
   ]
  },
  {
   "cell_type": "code",
   "execution_count": 26,
   "metadata": {},
   "outputs": [],
   "source": [
    "#mlflow.end_run()"
   ]
  },
  {
   "cell_type": "code",
   "execution_count": null,
   "metadata": {},
   "outputs": [],
   "source": []
  },
  {
   "cell_type": "code",
   "execution_count": null,
   "metadata": {},
   "outputs": [],
   "source": []
  },
  {
   "cell_type": "code",
   "execution_count": null,
   "metadata": {},
   "outputs": [],
   "source": []
  },
  {
   "cell_type": "code",
   "execution_count": null,
   "metadata": {},
   "outputs": [],
   "source": []
  },
  {
   "cell_type": "code",
   "execution_count": null,
   "metadata": {},
   "outputs": [],
   "source": []
  },
  {
   "cell_type": "code",
   "execution_count": null,
   "metadata": {},
   "outputs": [],
   "source": []
  },
  {
   "cell_type": "code",
   "execution_count": null,
   "metadata": {},
   "outputs": [],
   "source": []
  },
  {
   "cell_type": "code",
   "execution_count": null,
   "metadata": {},
   "outputs": [],
   "source": []
  },
  {
   "cell_type": "code",
   "execution_count": null,
   "metadata": {},
   "outputs": [],
   "source": []
  },
  {
   "cell_type": "code",
   "execution_count": null,
   "metadata": {},
   "outputs": [],
   "source": []
  },
  {
   "cell_type": "code",
   "execution_count": null,
   "metadata": {},
   "outputs": [],
   "source": []
  },
  {
   "cell_type": "code",
   "execution_count": null,
   "metadata": {},
   "outputs": [],
   "source": []
  },
  {
   "cell_type": "code",
   "execution_count": null,
   "metadata": {},
   "outputs": [],
   "source": []
  },
  {
   "cell_type": "code",
   "execution_count": null,
   "metadata": {},
   "outputs": [],
   "source": []
  },
  {
   "cell_type": "code",
   "execution_count": null,
   "metadata": {},
   "outputs": [],
   "source": []
  },
  {
   "cell_type": "code",
   "execution_count": null,
   "metadata": {},
   "outputs": [],
   "source": []
  },
  {
   "cell_type": "code",
   "execution_count": null,
   "metadata": {},
   "outputs": [],
   "source": []
  },
  {
   "cell_type": "code",
   "execution_count": 27,
   "metadata": {},
   "outputs": [
    {
     "data": {
      "text/html": [
       "<div>\n",
       "<style scoped>\n",
       "    .dataframe tbody tr th:only-of-type {\n",
       "        vertical-align: middle;\n",
       "    }\n",
       "\n",
       "    .dataframe tbody tr th {\n",
       "        vertical-align: top;\n",
       "    }\n",
       "\n",
       "    .dataframe thead th {\n",
       "        text-align: right;\n",
       "    }\n",
       "</style>\n",
       "<table border=\"1\" class=\"dataframe\">\n",
       "  <thead>\n",
       "    <tr style=\"text-align: right;\">\n",
       "      <th></th>\n",
       "      <th>a</th>\n",
       "      <th>d</th>\n",
       "    </tr>\n",
       "  </thead>\n",
       "  <tbody>\n",
       "    <tr>\n",
       "      <th>0</th>\n",
       "      <td>10</td>\n",
       "      <td>20</td>\n",
       "    </tr>\n",
       "    <tr>\n",
       "      <th>1</th>\n",
       "      <td>10</td>\n",
       "      <td>20</td>\n",
       "    </tr>\n",
       "    <tr>\n",
       "      <th>2</th>\n",
       "      <td>10</td>\n",
       "      <td>20</td>\n",
       "    </tr>\n",
       "  </tbody>\n",
       "</table>\n",
       "</div>"
      ],
      "text/plain": [
       "    a   d\n",
       "0  10  20\n",
       "1  10  20\n",
       "2  10  20"
      ]
     },
     "execution_count": 27,
     "metadata": {},
     "output_type": "execute_result"
    }
   ],
   "source": [
    "df1 = pd.DataFrame([\n",
    "    [1,2],\n",
    "    [None,4],\n",
    "    [5,6],\n",
    "], columns = [\"a\", \"b\"])\n",
    "\n",
    "df2 = pd.DataFrame([\n",
    "    [10,20],\n",
    "    [10,20],\n",
    "    [10,20],\n",
    "], columns = [\"a\", \"d\"])\n",
    "df2"
   ]
  },
  {
   "cell_type": "code",
   "execution_count": 28,
   "metadata": {},
   "outputs": [
    {
     "data": {
      "text/html": [
       "<div>\n",
       "<style scoped>\n",
       "    .dataframe tbody tr th:only-of-type {\n",
       "        vertical-align: middle;\n",
       "    }\n",
       "\n",
       "    .dataframe tbody tr th {\n",
       "        vertical-align: top;\n",
       "    }\n",
       "\n",
       "    .dataframe thead th {\n",
       "        text-align: right;\n",
       "    }\n",
       "</style>\n",
       "<table border=\"1\" class=\"dataframe\">\n",
       "  <thead>\n",
       "    <tr style=\"text-align: right;\">\n",
       "      <th></th>\n",
       "      <th>a_left</th>\n",
       "      <th>b</th>\n",
       "      <th>a_right</th>\n",
       "      <th>d</th>\n",
       "    </tr>\n",
       "  </thead>\n",
       "  <tbody>\n",
       "    <tr>\n",
       "      <th>0</th>\n",
       "      <td>1.0</td>\n",
       "      <td>2</td>\n",
       "      <td>10</td>\n",
       "      <td>20</td>\n",
       "    </tr>\n",
       "    <tr>\n",
       "      <th>1</th>\n",
       "      <td>NaN</td>\n",
       "      <td>4</td>\n",
       "      <td>10</td>\n",
       "      <td>20</td>\n",
       "    </tr>\n",
       "    <tr>\n",
       "      <th>2</th>\n",
       "      <td>5.0</td>\n",
       "      <td>6</td>\n",
       "      <td>10</td>\n",
       "      <td>20</td>\n",
       "    </tr>\n",
       "  </tbody>\n",
       "</table>\n",
       "</div>"
      ],
      "text/plain": [
       "   a_left  b  a_right   d\n",
       "0     1.0  2       10  20\n",
       "1     NaN  4       10  20\n",
       "2     5.0  6       10  20"
      ]
     },
     "execution_count": 28,
     "metadata": {},
     "output_type": "execute_result"
    }
   ],
   "source": [
    "df = df1.join(df2, lsuffix=\"_left\", rsuffix=\"_right\")\n",
    "df"
   ]
  },
  {
   "cell_type": "code",
   "execution_count": 29,
   "metadata": {},
   "outputs": [
    {
     "ename": "NameError",
     "evalue": "name 'order' is not defined",
     "output_type": "error",
     "traceback": [
      "\u001b[0;31m---------------------------------------------------------------------------\u001b[0m",
      "\u001b[0;31mNameError\u001b[0m                                 Traceback (most recent call last)",
      "Input \u001b[0;32mIn [29]\u001b[0m, in \u001b[0;36m<cell line: 1>\u001b[0;34m()\u001b[0m\n\u001b[0;32m----> 1\u001b[0m df[\u001b[43morder\u001b[49m]\u001b[38;5;241m.\u001b[39mbfill(axis\u001b[38;5;241m=\u001b[39m\u001b[38;5;241m1\u001b[39m)\u001b[38;5;241m.\u001b[39miloc[:, \u001b[38;5;241m0\u001b[39m]\n",
      "\u001b[0;31mNameError\u001b[0m: name 'order' is not defined"
     ]
    }
   ],
   "source": [
    "df[order].bfill(axis=1).iloc[:, 0]"
   ]
  },
  {
   "cell_type": "code",
   "execution_count": null,
   "metadata": {},
   "outputs": [],
   "source": [
    "order = [\"a_left\", \"a_right\"]\n",
    "df[\"a\"] = df[order].bfill(axis=1).iloc[:, 0]\n",
    "df = df.drop(columns = order)\n",
    "df"
   ]
  },
  {
   "cell_type": "code",
   "execution_count": null,
   "metadata": {},
   "outputs": [],
   "source": []
  },
  {
   "cell_type": "code",
   "execution_count": null,
   "metadata": {},
   "outputs": [],
   "source": [
    "(df1[\"a\"] - df2[\"c\"]).abs()"
   ]
  },
  {
   "cell_type": "code",
   "execution_count": null,
   "metadata": {},
   "outputs": [],
   "source": [
    "set(df1.columns) - set(df2.columns)"
   ]
  },
  {
   "cell_type": "code",
   "execution_count": null,
   "metadata": {},
   "outputs": [],
   "source": []
  },
  {
   "cell_type": "code",
   "execution_count": null,
   "metadata": {},
   "outputs": [],
   "source": []
  }
 ],
 "metadata": {
  "kernelspec": {
   "display_name": "Python 3 (ipykernel)",
   "language": "python",
   "name": "python3"
  },
  "language_info": {
   "codemirror_mode": {
    "name": "ipython",
    "version": 3
   },
   "file_extension": ".py",
   "mimetype": "text/x-python",
   "name": "python",
   "nbconvert_exporter": "python",
   "pygments_lexer": "ipython3",
   "version": "3.9.7"
  }
 },
 "nbformat": 4,
 "nbformat_minor": 1
}
